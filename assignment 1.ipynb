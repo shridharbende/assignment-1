{
 "cells": [
  {
   "cell_type": "markdown",
   "id": "075de60f-3c8e-4ba9-9ffa-41492ee622ec",
   "metadata": {},
   "source": [
    "Q1. Create one variable containing following type of data:\n",
    "\n",
    "(i)\tstring\n",
    "\n",
    "(ii)\tlist\n",
    "\n",
    "(iii)\tfloat\n",
    "\n",
    "(iv)\ttuple"
   ]
  },
  {
   "cell_type": "code",
   "execution_count": 1,
   "id": "05e8dc67-f4c8-488b-ad02-87c12d1fd2f5",
   "metadata": {},
   "outputs": [],
   "source": [
    "a = \"shridhar\""
   ]
  },
  {
   "cell_type": "code",
   "execution_count": 2,
   "id": "e0efd25f-65a1-41ba-ab38-a86b7e773c84",
   "metadata": {},
   "outputs": [
    {
     "data": {
      "text/plain": [
       "str"
      ]
     },
     "execution_count": 2,
     "metadata": {},
     "output_type": "execute_result"
    }
   ],
   "source": [
    "type(a)"
   ]
  },
  {
   "cell_type": "code",
   "execution_count": 4,
   "id": "0a8801e6-d6ea-4ca8-b9a3-cea714b9b641",
   "metadata": {},
   "outputs": [],
   "source": [
    "b =[1,2,3,4,5, \"shridhar\", \"ram\" , 45.12, 6+2j , True]"
   ]
  },
  {
   "cell_type": "code",
   "execution_count": 5,
   "id": "fb657a00-9d6a-4c0a-b295-775bcf5598b6",
   "metadata": {},
   "outputs": [
    {
     "data": {
      "text/plain": [
       "list"
      ]
     },
     "execution_count": 5,
     "metadata": {},
     "output_type": "execute_result"
    }
   ],
   "source": [
    "type(b)"
   ]
  },
  {
   "cell_type": "code",
   "execution_count": 6,
   "id": "2b017534-d381-40e1-bd92-25ba701edd5a",
   "metadata": {},
   "outputs": [],
   "source": [
    "c = 45.5625"
   ]
  },
  {
   "cell_type": "code",
   "execution_count": 7,
   "id": "81584889-8ac6-4a00-a7b6-ff0aa8ff13f3",
   "metadata": {},
   "outputs": [
    {
     "data": {
      "text/plain": [
       "float"
      ]
     },
     "execution_count": 7,
     "metadata": {},
     "output_type": "execute_result"
    }
   ],
   "source": [
    "type(c)"
   ]
  },
  {
   "cell_type": "code",
   "execution_count": 8,
   "id": "7c48e7b6-cbc0-4030-b310-b73f229468bc",
   "metadata": {},
   "outputs": [],
   "source": [
    "d = (1,2,3,4, \"shri\")"
   ]
  },
  {
   "cell_type": "code",
   "execution_count": 9,
   "id": "b4974401-d5c5-4f9c-90f2-e7109d03d07c",
   "metadata": {},
   "outputs": [
    {
     "data": {
      "text/plain": [
       "tuple"
      ]
     },
     "execution_count": 9,
     "metadata": {},
     "output_type": "execute_result"
    }
   ],
   "source": [
    "type(d)"
   ]
  },
  {
   "cell_type": "markdown",
   "id": "bba44c15-d70c-4696-b8f0-e11ae9c591c4",
   "metadata": {},
   "source": [
    "Q2. Given are some following variables containing data:\n",
    "\n",
    "(i)\tvar1 = ‘ ‘\n",
    "\n",
    "(ii)\tvar2 = ‘[ DS , ML , Python]’\n",
    "\n",
    "(iii)\tvar3 = [ ‘DS’ , ’ML’ , ‘Python’ ]\n",
    "\n",
    "(iv)\tvar4 = 1.\n",
    "\n",
    "\n",
    "What will be the data type of the above given variable."
   ]
  },
  {
   "cell_type": "code",
   "execution_count": 15,
   "id": "4cfafe7f-ee87-460a-b9d8-f880a7a7ced4",
   "metadata": {},
   "outputs": [],
   "source": [
    "varl = ' '"
   ]
  },
  {
   "cell_type": "code",
   "execution_count": 16,
   "id": "829bc2d9-59d2-4da9-91ba-372b8f2b9b33",
   "metadata": {},
   "outputs": [
    {
     "data": {
      "text/plain": [
       "str"
      ]
     },
     "execution_count": 16,
     "metadata": {},
     "output_type": "execute_result"
    }
   ],
   "source": [
    "type(varl)"
   ]
  },
  {
   "cell_type": "code",
   "execution_count": 17,
   "id": "94c89101-d14c-4588-ab08-ebb2195f96aa",
   "metadata": {},
   "outputs": [],
   "source": [
    "var2 = '[ DS , ML , Python]'"
   ]
  },
  {
   "cell_type": "code",
   "execution_count": 18,
   "id": "ec34c5e3-9e86-438f-94a0-cec2f8d3182c",
   "metadata": {},
   "outputs": [
    {
     "data": {
      "text/plain": [
       "str"
      ]
     },
     "execution_count": 18,
     "metadata": {},
     "output_type": "execute_result"
    }
   ],
   "source": [
    "type(var2)"
   ]
  },
  {
   "cell_type": "code",
   "execution_count": 21,
   "id": "c7a471ec-b869-43f8-ad81-7ed3db8fbecf",
   "metadata": {},
   "outputs": [],
   "source": [
    "var3 = [ 'DS' , 'ML' , 'Python' ]"
   ]
  },
  {
   "cell_type": "code",
   "execution_count": 22,
   "id": "ef0d4368-0b0f-4b6a-8b86-4f36afa365ff",
   "metadata": {},
   "outputs": [
    {
     "data": {
      "text/plain": [
       "list"
      ]
     },
     "execution_count": 22,
     "metadata": {},
     "output_type": "execute_result"
    }
   ],
   "source": [
    "type(var3)"
   ]
  },
  {
   "cell_type": "code",
   "execution_count": 23,
   "id": "d2e36e9d-1651-461d-9fec-9619a2c229bf",
   "metadata": {},
   "outputs": [],
   "source": [
    "var4 = 1."
   ]
  },
  {
   "cell_type": "code",
   "execution_count": 24,
   "id": "d268f6bb-4ef6-4de5-beb8-e4ae2bed7960",
   "metadata": {},
   "outputs": [
    {
     "data": {
      "text/plain": [
       "float"
      ]
     },
     "execution_count": 24,
     "metadata": {},
     "output_type": "execute_result"
    }
   ],
   "source": [
    "type(var4)"
   ]
  },
  {
   "cell_type": "markdown",
   "id": "2ec6b1f4-016d-4dd5-9df1-d3f85e328e7e",
   "metadata": {},
   "source": [
    "Q3. Explain the use of the following operators using an example:\n",
    "\n",
    "(i)\t/\n",
    "\n",
    "(ii)\t% \n",
    "\n",
    "(iii)\t//\n",
    "\n",
    "(iv)\t**"
   ]
  },
  {
   "cell_type": "code",
   "execution_count": null,
   "id": "04eb08bb-ea08-427b-9822-1f09eb4b1a3f",
   "metadata": {},
   "outputs": [],
   "source": [
    "The division operator (/) in python is used to find the quotient when the first value is divided by the second value."
   ]
  },
  {
   "cell_type": "code",
   "execution_count": 25,
   "id": "a4e6b30c-5611-4fdd-8866-6b386bd4b048",
   "metadata": {},
   "outputs": [
    {
     "data": {
      "text/plain": [
       "2.0"
      ]
     },
     "execution_count": 25,
     "metadata": {},
     "output_type": "execute_result"
    }
   ],
   "source": [
    "4/2"
   ]
  },
  {
   "cell_type": "code",
   "execution_count": 26,
   "id": "ba98fa6c-2172-4719-aae9-d9a5e61b2efe",
   "metadata": {},
   "outputs": [],
   "source": [
    "The modulus operator (%) in python is similar to the Division operator. But dissimilar to the division operator it returns the remainder when the first value is divided by the second value."
   ]
  },
  {
   "cell_type": "code",
   "execution_count": 34,
   "id": "3be84533-4efe-427e-97d3-8987a941fbec",
   "metadata": {},
   "outputs": [
    {
     "data": {
      "text/plain": [
       "4"
      ]
     },
     "execution_count": 34,
     "metadata": {},
     "output_type": "execute_result"
    }
   ],
   "source": [
    "4%60"
   ]
  },
  {
   "cell_type": "code",
   "execution_count": 35,
   "id": "c6015889-4ac2-4ce0-a504-f31ebe1d91f5",
   "metadata": {},
   "outputs": [],
   "source": [
    "The // operator is applied to two numerical values first division will be performed and then the result obtained from the division will be rounded down to the nearest integer."
   ]
  },
  {
   "cell_type": "code",
   "execution_count": 49,
   "id": "85e82266-fb90-4b9a-8a29-7e1e9de3e73c",
   "metadata": {},
   "outputs": [
    {
     "data": {
      "text/plain": [
       "33"
      ]
     },
     "execution_count": 49,
     "metadata": {},
     "output_type": "execute_result"
    }
   ],
   "source": [
    "100//3"
   ]
  },
  {
   "cell_type": "code",
   "execution_count": 51,
   "id": "50710940-ebc0-43b0-92cc-f213a006c33a",
   "metadata": {},
   "outputs": [],
   "source": [
    "The exponential operator (**) in python is used to find the power of first value to the second value."
   ]
  },
  {
   "cell_type": "code",
   "execution_count": 52,
   "id": "431ee321-686b-42bb-b1b0-b282b7599599",
   "metadata": {},
   "outputs": [
    {
     "data": {
      "text/plain": [
       "4096"
      ]
     },
     "execution_count": 52,
     "metadata": {},
     "output_type": "execute_result"
    }
   ],
   "source": [
    "16**3"
   ]
  },
  {
   "cell_type": "markdown",
   "id": "fa982bca-f8e9-4046-8dcb-755f9b2c2ee5",
   "metadata": {},
   "source": [
    "Q4. Create a list of length 10 of your choice containing multiple types of data. Using for loop print the\n",
    "element and its data type."
   ]
  },
  {
   "cell_type": "code",
   "execution_count": 54,
   "id": "b343d811-0c4b-4191-bb08-973348499849",
   "metadata": {},
   "outputs": [],
   "source": [
    "l =[1,2,4,6,8, \"shri\" , \"hp\" , 124.545 , True , 4+56j]"
   ]
  },
  {
   "cell_type": "code",
   "execution_count": 60,
   "id": "cc59831d-d866-45fc-9485-cc9f2353b6e9",
   "metadata": {},
   "outputs": [
    {
     "name": "stdout",
     "output_type": "stream",
     "text": [
      "<class 'int'>\n",
      "1\n",
      "<class 'int'>\n",
      "2\n",
      "<class 'int'>\n",
      "4\n",
      "<class 'int'>\n",
      "6\n",
      "<class 'int'>\n",
      "8\n",
      "<class 'str'>\n",
      "shri\n",
      "<class 'str'>\n",
      "hp\n",
      "<class 'float'>\n",
      "124.545\n",
      "<class 'bool'>\n",
      "True\n",
      "<class 'complex'>\n",
      "(4+56j)\n"
     ]
    }
   ],
   "source": [
    "for i in l:\n",
    "    print(type(i))\n",
    "    print(i)"
   ]
  },
  {
   "cell_type": "markdown",
   "id": "6c712136-9330-43cf-b9c9-528614924b65",
   "metadata": {},
   "source": [
    "Q5. Using a while loop, verify if the number A is purely divisible by number B and if so then how many\n",
    "times it can be divisible."
   ]
  },
  {
   "cell_type": "code",
   "execution_count": 4,
   "id": "c340c38a-8411-4280-ae75-78b5bfdfa1f9",
   "metadata": {},
   "outputs": [
    {
     "name": "stdin",
     "output_type": "stream",
     "text": [
      " 12\n",
      " 2\n"
     ]
    },
    {
     "name": "stdout",
     "output_type": "stream",
     "text": [
      "not divisible\n"
     ]
    }
   ],
   "source": [
    "a=int(input())\n",
    "b=int(input())\n",
    "c=0\n",
    "if (a/b==0):\n",
    "    while(a/b>=b and type(a/b)==int):\n",
    "        c+=1\n",
    "        a/=b\n",
    "    c\n",
    "else:\n",
    "    print(\"not divisible\")"
   ]
  },
  {
   "cell_type": "markdown",
   "id": "b190296d-2729-4f2f-bc88-9316ee8cb2cd",
   "metadata": {},
   "source": [
    "Q6. Create a list containing 25 int type data. Using for loop and if-else condition print if the element is\n",
    "divisible by 3 or not."
   ]
  },
  {
   "cell_type": "code",
   "execution_count": 7,
   "id": "e7e16f34-b585-4a92-a22e-e58b9c476106",
   "metadata": {},
   "outputs": [],
   "source": [
    "l=[1,2,3,4,5,6,7,8,9,10,11,12,13,14,15,16,17,18,19,20,21,22,23,24,25]\n",
    "l1=[]\n",
    "l2=[]\n",
    "for i in l:\n",
    "    if i%3==0:\n",
    "        l1.append(i)\n",
    "    else:\n",
    "            l2.append(i)"
   ]
  },
  {
   "cell_type": "code",
   "execution_count": 8,
   "id": "369ead36-41ff-4bcd-bc34-14071566be46",
   "metadata": {},
   "outputs": [
    {
     "data": {
      "text/plain": [
       "[3, 6, 9, 12, 15, 18, 21, 24]"
      ]
     },
     "execution_count": 8,
     "metadata": {},
     "output_type": "execute_result"
    }
   ],
   "source": [
    "l1"
   ]
  },
  {
   "cell_type": "code",
   "execution_count": 9,
   "id": "78d3f23d-16fb-4066-875c-0f7e72eb0f11",
   "metadata": {},
   "outputs": [
    {
     "data": {
      "text/plain": [
       "[1, 2, 4, 5, 7, 8, 10, 11, 13, 14, 16, 17, 19, 20, 22, 23, 25]"
      ]
     },
     "execution_count": 9,
     "metadata": {},
     "output_type": "execute_result"
    }
   ],
   "source": [
    "l2"
   ]
  },
  {
   "cell_type": "markdown",
   "id": "bdfbc0be-fe63-4935-84cf-1fa8dc0e69e3",
   "metadata": {},
   "source": [
    "Q7. What do you understand about mutable and immutable data types? Give examples for both showing\n",
    "this property."
   ]
  },
  {
   "cell_type": "markdown",
   "id": "c8c7e49d-360e-4565-b0dc-5a41e9e7daca",
   "metadata": {},
   "source": [
    "mutable An object that allows to change its values without changing its identity is a mutable object.\n",
    "immutable:- an object that doesn't allow changes in its value is an immutable object."
   ]
  },
  {
   "cell_type": "code",
   "execution_count": 13,
   "id": "b8b2b62b-6bf0-4134-8b01-0dc5389794f5",
   "metadata": {},
   "outputs": [],
   "source": [
    "e=[7,8,9,4,3]"
   ]
  },
  {
   "cell_type": "code",
   "execution_count": 14,
   "id": "9786528b-5f45-4450-bc9e-6832bcbc4570",
   "metadata": {},
   "outputs": [],
   "source": [
    "e[1]=16"
   ]
  },
  {
   "cell_type": "code",
   "execution_count": 15,
   "id": "a10dae25-d1dc-473e-8ada-ec8cb6b320b4",
   "metadata": {},
   "outputs": [
    {
     "data": {
      "text/plain": [
       "[7, 16, 9, 4, 3]"
      ]
     },
     "execution_count": 15,
     "metadata": {},
     "output_type": "execute_result"
    }
   ],
   "source": [
    "e"
   ]
  },
  {
   "cell_type": "code",
   "execution_count": 16,
   "id": "24897575-934b-4c71-89da-3b8163d11631",
   "metadata": {},
   "outputs": [],
   "source": [
    "e=(7,8,9,4,3)"
   ]
  },
  {
   "cell_type": "code",
   "execution_count": 19,
   "id": "fcbef057-6b5a-40ea-a4f2-de2ff123e252",
   "metadata": {},
   "outputs": [
    {
     "ename": "TypeError",
     "evalue": "'tuple' object does not support item assignment",
     "output_type": "error",
     "traceback": [
      "\u001b[0;31m---------------------------------------------------------------------------\u001b[0m",
      "\u001b[0;31mTypeError\u001b[0m                                 Traceback (most recent call last)",
      "Cell \u001b[0;32mIn[19], line 1\u001b[0m\n\u001b[0;32m----> 1\u001b[0m \u001b[43me\u001b[49m\u001b[43m[\u001b[49m\u001b[38;5;241;43m0\u001b[39;49m\u001b[43m]\u001b[49m\u001b[38;5;241m=\u001b[39m\u001b[38;5;241m10\u001b[39m\n",
      "\u001b[0;31mTypeError\u001b[0m: 'tuple' object does not support item assignment"
     ]
    }
   ],
   "source": [
    "e[0]=10"
   ]
  },
  {
   "cell_type": "code",
   "execution_count": null,
   "id": "99bc7562-922a-43d7-a010-71395148f395",
   "metadata": {},
   "outputs": [],
   "source": []
  }
 ],
 "metadata": {
  "kernelspec": {
   "display_name": "Python 3 (ipykernel)",
   "language": "python",
   "name": "python3"
  },
  "language_info": {
   "codemirror_mode": {
    "name": "ipython",
    "version": 3
   },
   "file_extension": ".py",
   "mimetype": "text/x-python",
   "name": "python",
   "nbconvert_exporter": "python",
   "pygments_lexer": "ipython3",
   "version": "3.10.8"
  }
 },
 "nbformat": 4,
 "nbformat_minor": 5
}
